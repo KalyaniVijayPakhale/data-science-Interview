{
 "cells": [
  {
   "cell_type": "code",
   "execution_count": 8,
   "metadata": {},
   "outputs": [
    {
     "name": "stdout",
     "output_type": "stream",
     "text": [
      "Hi\n",
      "How are you?\n",
      "Hows DS interview preparation going on?\n"
     ]
    }
   ],
   "source": [
    "with open(r'C:\\Kalyani Pakhale\\data-science-Interview\\Python\\file_handling\\example.txt','r') as file:\n",
    "    content = file.read()\n",
    "    print(content)"
   ]
  },
  {
   "cell_type": "code",
   "execution_count": null,
   "metadata": {},
   "outputs": [
    {
     "name": "stdout",
     "output_type": "stream",
     "text": [
      "Hi\n",
      "How are you?\n",
      "Hows DS interview preparation going on?\n"
     ]
    }
   ],
   "source": [
    "# line by line read\n",
    "with open(r'C:\\Kalyani Pakhale\\data-science-Interview\\Python\\file_handling\\example.txt','r') as file:\n",
    "    for line in file:\n",
    "        print(line.strip()) # strip - removes the line"
   ]
  },
  {
   "cell_type": "code",
   "execution_count": null,
   "metadata": {},
   "outputs": [],
   "source": [
    "# writing a file (Overwriting)\n",
    "with open(r'Python\\file_handling\\example.txt', 'w') as file:\n",
    "    file.write('Hello World\\n')"
   ]
  },
  {
   "cell_type": "code",
   "execution_count": 16,
   "metadata": {},
   "outputs": [],
   "source": [
    "#write a file without overwriting\n",
    "with open(r'Python\\file_handling\\example.txt', 'a') as file:\n",
    "    file.write('Append the data')"
   ]
  },
  {
   "cell_type": "code",
   "execution_count": 26,
   "metadata": {},
   "outputs": [
    {
     "name": "stdout",
     "output_type": "stream",
     "text": [
      "Hello World\n",
      "Append the datafirst line\n",
      "Second line\n",
      "Third line\n",
      "\n",
      "first line\n",
      "Second line\n",
      "Third line\n",
      "\n"
     ]
    }
   ],
   "source": [
    "with open(r'Python\\file_handling\\example.txt','r') as file:\n",
    "    print(file.read())"
   ]
  },
  {
   "cell_type": "code",
   "execution_count": 23,
   "metadata": {},
   "outputs": [],
   "source": [
    "## write a list of line to file\n",
    "\n",
    "lines = ['\\nfirst line\\n', 'Second line\\n', 'Third line\\n']\n",
    "with open(r'Python\\file_handling\\example.txt', 'a') as file:\n",
    "    file.writelines(lines)"
   ]
  },
  {
   "cell_type": "code",
   "execution_count": 37,
   "metadata": {},
   "outputs": [
    {
     "name": "stdout",
     "output_type": "stream",
     "text": [
      "Hello World\n",
      "Append the datafirst line\n",
      "Second line\n",
      "Third line\n",
      "\n",
      "first line\n",
      "Second line\n",
      "Third line\n"
     ]
    }
   ],
   "source": [
    "with open(file_path, 'r') as file:\n",
    "        lines = file.readlines()\n",
    "        for line in lines:\n",
    "                print(line.strip())"
   ]
  },
  {
   "cell_type": "code",
   "execution_count": 50,
   "metadata": {},
   "outputs": [
    {
     "data": {
      "text/plain": [
       "(['Hello World\\n',\n",
       "  'Append the datafirst line\\n',\n",
       "  'Second line\\n',\n",
       "  'Third line\\n',\n",
       "  '\\n',\n",
       "  'first line\\n',\n",
       "  'Second line\\n',\n",
       "  'Third line\\n'],\n",
       " 8,\n",
       " 96,\n",
       " 'Third line\\n')"
      ]
     },
     "execution_count": 50,
     "metadata": {},
     "output_type": "execute_result"
    }
   ],
   "source": [
    "def count_word(file_path):\n",
    "    with open(file_path, 'r') as file:\n",
    "        lines = file.readlines()\n",
    "        line_count = len(lines)\n",
    "        word_count = 0\n",
    "        for line in lines:\n",
    "            word_count += len(line)\n",
    "        return lines, line_count, word_count,line\n",
    "count_word(file_path)"
   ]
  },
  {
   "cell_type": "code",
   "execution_count": 53,
   "metadata": {},
   "outputs": [
    {
     "data": {
      "text/plain": [
       "['Hello', 'World']"
      ]
     },
     "execution_count": 53,
     "metadata": {},
     "output_type": "execute_result"
    }
   ],
   "source": [
    "l = ['Hello World\\n',\n",
    "  'Append the datafirst line\\n',\n",
    "  'Second line\\n',\n",
    "  'Third line\\n',\n",
    "  '\\n',\n",
    "  'first line\\n',\n",
    "  'Second line\\n',\n",
    "  'Third line\\n']\n",
    "l[0].split()"
   ]
  },
  {
   "cell_type": "code",
   "execution_count": 60,
   "metadata": {},
   "outputs": [
    {
     "name": "stdout",
     "output_type": "stream",
     "text": [
      "Hey DD\n"
     ]
    }
   ],
   "source": [
    "# writing and reading\n",
    "with open(file_path, 'w+') as file:\n",
    "    file.write('Hey DD')\n",
    "    file.seek(0)\n",
    "    content = file.read()\n",
    "    print(content)\n",
    "# moe to cursor to the beginning"
   ]
  },
  {
   "cell_type": "code",
   "execution_count": null,
   "metadata": {},
   "outputs": [],
   "source": []
  }
 ],
 "metadata": {
  "kernelspec": {
   "display_name": "Python 3",
   "language": "python",
   "name": "python3"
  },
  "language_info": {
   "codemirror_mode": {
    "name": "ipython",
    "version": 3
   },
   "file_extension": ".py",
   "mimetype": "text/x-python",
   "name": "python",
   "nbconvert_exporter": "python",
   "pygments_lexer": "ipython3",
   "version": "3.12.4"
  }
 },
 "nbformat": 4,
 "nbformat_minor": 2
}
