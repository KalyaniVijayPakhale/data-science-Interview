{
 "cells": [
  {
   "cell_type": "code",
   "execution_count": 8,
   "metadata": {},
   "outputs": [
    {
     "name": "stdout",
     "output_type": "stream",
     "text": [
      "Hi\n",
      "How are you?\n",
      "Hows DS interview preparation going on?\n"
     ]
    }
   ],
   "source": [
    "with open(r'C:\\Kalyani Pakhale\\data-science-Interview\\Python\\file_handling\\example.txt','r') as file:\n",
    "    content = file.read()\n",
    "    print(content)"
   ]
  },
  {
   "cell_type": "code",
   "execution_count": null,
   "metadata": {},
   "outputs": [
    {
     "name": "stdout",
     "output_type": "stream",
     "text": [
      "Hi\n",
      "How are you?\n",
      "Hows DS interview preparation going on?\n"
     ]
    }
   ],
   "source": [
    "# line by line read\n",
    "with open(r'C:\\Kalyani Pakhale\\data-science-Interview\\Python\\file_handling\\example.txt','r') as file:\n",
    "    for line in file:\n",
    "        print(line.strip()) # strip - removes the line"
   ]
  },
  {
   "cell_type": "code",
   "execution_count": null,
   "metadata": {},
   "outputs": [],
   "source": [
    "# writing a file (Overwriting)\n",
    "with open(r'Python\\file_handling\\example.txt', 'w') as file:\n",
    "    file.write('Hello World\\n')"
   ]
  },
  {
   "cell_type": "code",
   "execution_count": 16,
   "metadata": {},
   "outputs": [],
   "source": [
    "#write a file without overwriting\n",
    "with open(r'Python\\file_handling\\example.txt', 'a') as file:\n",
    "    file.write('Append the data')"
   ]
  },
  {
   "cell_type": "code",
   "execution_count": 20,
   "metadata": {},
   "outputs": [
    {
     "name": "stdout",
     "output_type": "stream",
     "text": [
      "Hello World\n",
      "Append the data\n"
     ]
    }
   ],
   "source": [
    "with open(r'Python\\file_handling\\example.txt','r') as file:\n",
    "    print(file.read())"
   ]
  },
  {
   "cell_type": "code",
   "execution_count": 23,
   "metadata": {},
   "outputs": [],
   "source": [
    "## write a list of line to file\n",
    "\n",
    "lines = ['\\nfirst line\\n', 'Second line\\n', 'Third line\\n']\n",
    "with open(r'Python\\file_handling\\example.txt', 'a') as file:\n",
    "    file.writelines(lines)"
   ]
  },
  {
   "cell_type": "code",
   "execution_count": null,
   "metadata": {},
   "outputs": [],
   "source": []
  }
 ],
 "metadata": {
  "kernelspec": {
   "display_name": "Python 3",
   "language": "python",
   "name": "python3"
  },
  "language_info": {
   "codemirror_mode": {
    "name": "ipython",
    "version": 3
   },
   "file_extension": ".py",
   "mimetype": "text/x-python",
   "name": "python",
   "nbconvert_exporter": "python",
   "pygments_lexer": "ipython3",
   "version": "3.12.4"
  }
 },
 "nbformat": 4,
 "nbformat_minor": 2
}
