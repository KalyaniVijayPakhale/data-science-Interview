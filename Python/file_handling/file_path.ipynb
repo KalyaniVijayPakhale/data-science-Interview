{
 "cells": [
  {
   "cell_type": "code",
   "execution_count": 3,
   "metadata": {},
   "outputs": [],
   "source": [
    "import os\n",
    "# create a new directory\n",
    "new_directory = \"package1\"\n",
    "os.mkdir(new_directory)"
   ]
  },
  {
   "cell_type": "code",
   "execution_count": 2,
   "metadata": {},
   "outputs": [
    {
     "name": "stdout",
     "output_type": "stream",
     "text": [
      "['binfile_op.ipynb', 'ex.bin', 'example.txt', 'file_path.ipynb', 'package']\n"
     ]
    }
   ],
   "source": [
    "#list files and directories\n",
    "items = os.listdir('.')\n",
    "print(items)"
   ]
  },
  {
   "cell_type": "code",
   "execution_count": 5,
   "metadata": {},
   "outputs": [
    {
     "name": "stdout",
     "output_type": "stream",
     "text": [
      "c:\\Kalyani Pakhale\\data-science-Interview\\Python\\file_handling\\Folder\\file.txt\n"
     ]
    }
   ],
   "source": [
    "# joining Paths\n",
    "dir_name = \"Folder\"\n",
    "file_name = \"file.txt\"\n",
    "full_path = os.path.join(os.getcwd(),dir_name,file_name)\n",
    "print(full_path)"
   ]
  },
  {
   "cell_type": "code",
   "execution_count": 9,
   "metadata": {},
   "outputs": [
    {
     "name": "stdout",
     "output_type": "stream",
     "text": [
      "The path exp1.txt does not exist\n"
     ]
    }
   ],
   "source": [
    "path = \"exp1.txt\"\n",
    "if os.path.exists(path):\n",
    "    print(f\"The path {path} exist\")\n",
    "else:\n",
    "    print(f\"The path {path} does not exist\")"
   ]
  },
  {
   "cell_type": "code",
   "execution_count": null,
   "metadata": {},
   "outputs": [
    {
     "data": {
      "text/plain": [
       "['p',\n",
       " 'y',\n",
       " 't',\n",
       " 'h',\n",
       " 'o',\n",
       " 'n',\n",
       " 'i',\n",
       " 'n',\n",
       " 't',\n",
       " 'e',\n",
       " 'r',\n",
       " 'v',\n",
       " 'i',\n",
       " 'e',\n",
       " 'w',\n",
       " 'q',\n",
       " 'u',\n",
       " 'e',\n",
       " 's',\n",
       " 't',\n",
       " 'i',\n",
       " 'o',\n",
       " 'n']"
      ]
     },
     "execution_count": 12,
     "metadata": {},
     "output_type": "execute_result"
    }
   ],
   "source": [
    "input = \"pythoninterviewquestion\"\n",
    "input_str = list(input)\n",
    "input_str"
   ]
  },
  {
   "cell_type": "code",
   "execution_count": null,
   "metadata": {},
   "outputs": [],
   "source": []
  }
 ],
 "metadata": {
  "kernelspec": {
   "display_name": "Python 3",
   "language": "python",
   "name": "python3"
  },
  "language_info": {
   "codemirror_mode": {
    "name": "ipython",
    "version": 3
   },
   "file_extension": ".py",
   "mimetype": "text/x-python",
   "name": "python",
   "nbconvert_exporter": "python",
   "pygments_lexer": "ipython3",
   "version": "3.12.4"
  }
 },
 "nbformat": 4,
 "nbformat_minor": 2
}
