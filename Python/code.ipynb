{
 "cells": [
  {
   "cell_type": "code",
   "execution_count": 4,
   "metadata": {},
   "outputs": [
    {
     "name": "stdout",
     "output_type": "stream",
     "text": [
      "strawberrystrawberrystrawberry\n"
     ]
    }
   ],
   "source": [
    "L = [\"apple\", \"banana\", \"grape\", \"pineapple\", \"strawberry\", \"kiwi\", \"mango\", \"blueberry\", \"pineapple\",'strawberrystrawberrystrawberry']\n",
    "max_length = -1\n",
    "word = ''\n",
    "for i in L:\n",
    "    if len(i) >= max_length:\n",
    "        max_length = len(i)\n",
    "        word = ''\n",
    "        word+= i\n",
    "print(word)"
   ]
  },
  {
   "cell_type": "code",
   "execution_count": 11,
   "metadata": {},
   "outputs": [
    {
     "data": {
      "text/plain": [
       "[[1, 0, 0], [0, 1, 0], [0, 0, 1]]"
      ]
     },
     "execution_count": 11,
     "metadata": {},
     "output_type": "execute_result"
    }
   ],
   "source": [
    "# create identity matrix N*N\n",
    "\n",
    "def matrix_creation(n):\n",
    "    matrix = []\n",
    "    for i in range(0,n):\n",
    "        rows =[]\n",
    "        for j in range(0,n):\n",
    "            if i == j:\n",
    "                rows.append(1)\n",
    "            else:\n",
    "                rows.append(0)\n",
    "        matrix.append(rows)\n",
    "    return matrix\n",
    "matrix_creation(3)"
   ]
  },
  {
   "cell_type": "code",
   "execution_count": null,
   "metadata": {},
   "outputs": [],
   "source": []
  },
  {
   "cell_type": "code",
   "execution_count": null,
   "metadata": {},
   "outputs": [],
   "source": []
  }
 ],
 "metadata": {
  "kernelspec": {
   "display_name": "base",
   "language": "python",
   "name": "python3"
  },
  "language_info": {
   "codemirror_mode": {
    "name": "ipython",
    "version": 3
   },
   "file_extension": ".py",
   "mimetype": "text/x-python",
   "name": "python",
   "nbconvert_exporter": "python",
   "pygments_lexer": "ipython3",
   "version": "3.9.19"
  }
 },
 "nbformat": 4,
 "nbformat_minor": 2
}
