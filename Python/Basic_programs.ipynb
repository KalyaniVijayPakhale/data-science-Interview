{
 "cells": [
  {
   "cell_type": "code",
   "execution_count": 2,
   "metadata": {},
   "outputs": [
    {
     "data": {
      "text/plain": [
       "10.0"
      ]
     },
     "execution_count": 2,
     "metadata": {},
     "output_type": "execute_result"
    }
   ],
   "source": [
    "# Write a Python program to find the area of a triangle.\n",
    "def area_trainagle(base, height):\n",
    "    area = (base*height)/2\n",
    "    return area\n",
    "area_trainagle(4,5)"
   ]
  },
  {
   "cell_type": "code",
   "execution_count": 9,
   "metadata": {},
   "outputs": [
    {
     "data": {
      "text/plain": [
       "(5, 4)"
      ]
     },
     "execution_count": 9,
     "metadata": {},
     "output_type": "execute_result"
    }
   ],
   "source": [
    "# Write a Python program to swap two variables.\n",
    "def swap_nos(a,b):\n",
    "    # temp = a\n",
    "    # a = b\n",
    "    # b = temp\n",
    "    return(b,a)\n",
    "swap_nos(4,5)"
   ]
  },
  {
   "cell_type": "code",
   "execution_count": 19,
   "metadata": {},
   "outputs": [
    {
     "data": {
      "text/plain": [
       "7"
      ]
     },
     "execution_count": 19,
     "metadata": {},
     "output_type": "execute_result"
    }
   ],
   "source": [
    "# Write a Python program to generate a random number.\n",
    "import random\n",
    "def random_no():\n",
    "    random1 = random.randint(1,10)\n",
    "    return random1\n",
    "random_no()"
   ]
  },
  {
   "cell_type": "code",
   "execution_count": 28,
   "metadata": {},
   "outputs": [
    {
     "name": "stdout",
     "output_type": "stream",
     "text": [
      "    January 2024\n",
      "Mo Tu We Th Fr Sa Su\n",
      " 1  2  3  4  5  6  7\n",
      " 8  9 10 11 12 13 14\n",
      "15 16 17 18 19 20 21\n",
      "22 23 24 25 26 27 28\n",
      "29 30 31\n",
      "\n"
     ]
    }
   ],
   "source": [
    "# Write a Python program to display calendar.\n",
    "import calendar\n",
    "\n",
    "cal = calendar.month(2024,1)\n",
    "print(cal)"
   ]
  },
  {
   "cell_type": "code",
   "execution_count": null,
   "metadata": {},
   "outputs": [
    {
     "data": {
      "text/plain": [
       "((-3+0.8426149773176359j), (-3-0.8426149773176359j))"
      ]
     },
     "execution_count": 35,
     "metadata": {},
     "output_type": "execute_result"
    }
   ],
   "source": [
    "# Write a Python program to solve quadratic equation.\n",
    "#sol: −𝑏 ± (𝑏 − 4𝑎𝑐 )/(2𝑎)\n",
    "\n",
    "def quadratic_eq(a,b,c):\n",
    "    solution1 = -b + (b**2 - 4*a*c)**0.5 / (2*a)\n",
    "    solution2 = -b - (b**2 - 4*a*c)**0.5 / (2*a)\n",
    "    return (solution1,solution2)\n",
    "quadratic_eq(5,3,4)"
   ]
  },
  {
   "cell_type": "code",
   "execution_count": 40,
   "metadata": {},
   "outputs": [
    {
     "name": "stdout",
     "output_type": "stream",
     "text": [
      "No Leap Year\n"
     ]
    }
   ],
   "source": [
    "# Write a Python Program to Check Leap Year.\n",
    "def leap_year(year):\n",
    "    if year % 4 == 0 or year % 100 == 0:\n",
    "        return 'Leap Year'\n",
    "    else:\n",
    "        print('No Leap Year')\n",
    "leap_year(2025)"
   ]
  },
  {
   "cell_type": "code",
   "execution_count": 50,
   "metadata": {},
   "outputs": [
    {
     "data": {
      "text/plain": [
       "'Prime'"
      ]
     },
     "execution_count": 50,
     "metadata": {},
     "output_type": "execute_result"
    }
   ],
   "source": [
    "# Write a Python Program to Check Prime Number.\n",
    "\n",
    "def prime_no(no):\n",
    "    if no % 2 == 0:\n",
    "        print('no Prime')\n",
    "    else:\n",
    "        for i in range(2,no):\n",
    "            if no % i == 0:\n",
    "                print('no Prime')\n",
    "            else:\n",
    "                return 'Prime'\n",
    "prime_no(5)"
   ]
  },
  {
   "cell_type": "code",
   "execution_count": 51,
   "metadata": {},
   "outputs": [
    {
     "name": "stdout",
     "output_type": "stream",
     "text": [
      "2\n",
      "3\n",
      "5\n",
      "7\n"
     ]
    }
   ],
   "source": [
    "# Python program to display all the prime numbers within an interval\n",
    "\n",
    "for num in range(1,10):\n",
    "    if num>1:\n",
    "        for i in range(2, num):\n",
    "            if num % i == 0:\n",
    "                break\n",
    "        else:\n",
    "            print(num)"
   ]
  },
  {
   "cell_type": "code",
   "execution_count": 54,
   "metadata": {},
   "outputs": [
    {
     "data": {
      "text/plain": [
       "3628800"
      ]
     },
     "execution_count": 54,
     "metadata": {},
     "output_type": "execute_result"
    }
   ],
   "source": [
    "# Write a Python Program to Find the Factorial of a Number.\n",
    "def factorial(n):\n",
    "    fact = 1\n",
    "    for i in range(1,n+1):\n",
    "        fact = fact *i\n",
    "    return fact\n",
    "factorial(10)"
   ]
  },
  {
   "cell_type": "code",
   "execution_count": 57,
   "metadata": {},
   "outputs": [
    {
     "data": {
      "text/plain": [
       "[10, 20, 30, 40, 50, 60, 70, 80, 90, 100]"
      ]
     },
     "execution_count": 57,
     "metadata": {},
     "output_type": "execute_result"
    }
   ],
   "source": [
    "# Write a Python Program to Display the multiplication Table.\n",
    "x = 10\n",
    "mul_table = [x*i for i in range(1,11)]\n",
    "mul_table"
   ]
  },
  {
   "cell_type": "code",
   "execution_count": 73,
   "metadata": {},
   "outputs": [
    {
     "data": {
      "text/plain": [
       "[0, 1, 1, 2, 3, 5, 8, 13, 21, 34]"
      ]
     },
     "execution_count": 73,
     "metadata": {},
     "output_type": "execute_result"
    }
   ],
   "source": [
    "# Write a Python Program to Print the Fibonacci sequence.\n",
    "# 0, 1, 1, 2, 3, 5, 8, 13, 21, 34, 55, 89, 144, and so on.\n",
    "\n",
    "def fib(n):\n",
    "    if n == 0:\n",
    "        return []\n",
    "    elif n ==1 :\n",
    "        return [0]\n",
    "    elif n == 2:\n",
    "        return [0,1]\n",
    "    lst = [0,1]\n",
    "    for i in range(2,n):\n",
    "        lst.append (lst[i-1] + lst[i-2])\n",
    "    return lst\n",
    "    \n",
    "fib(10)"
   ]
  },
  {
   "cell_type": "code",
   "execution_count": null,
   "metadata": {},
   "outputs": [],
   "source": [
    "# Write a Python Program to Check Armstrong Number?\n"
   ]
  },
  {
   "cell_type": "code",
   "execution_count": 76,
   "metadata": {},
   "outputs": [],
   "source": [
    "# Write a Python Program to Find the Sum of Natural Numbers.[]"
   ]
  },
  {
   "cell_type": "code",
   "execution_count": 85,
   "metadata": {},
   "outputs": [
    {
     "name": "stdout",
     "output_type": "stream",
     "text": [
      "100\n"
     ]
    }
   ],
   "source": [
    "# largest element from list\n",
    "lst = [1,2,3,100,1]\n",
    "largest = lst[0]\n",
    "for i in range(len(lst)):\n",
    "    if lst[i]> largest:\n",
    "        largest = lst[i]\n",
    "print(largest)"
   ]
  },
  {
   "cell_type": "code",
   "execution_count": 86,
   "metadata": {},
   "outputs": [
    {
     "name": "stdout",
     "output_type": "stream",
     "text": [
      "[1, 2, 3, 100]\n"
     ]
    }
   ],
   "source": [
    "# remove duplicates from list\n",
    "remove_lst = []\n",
    "for i in lst:\n",
    "    if i not in remove_lst:\n",
    "        remove_lst.append(i)\n",
    "print(remove_lst)\n"
   ]
  },
  {
   "cell_type": "code",
   "execution_count": 95,
   "metadata": {},
   "outputs": [
    {
     "data": {
      "text/plain": [
       "[4, 6, 1, 2, 10]"
      ]
     },
     "execution_count": 95,
     "metadata": {},
     "output_type": "execute_result"
    }
   ],
   "source": [
    "lst1= [1,2,10,4,6]\n",
    "lst1[3:]+lst1[:3]"
   ]
  },
  {
   "cell_type": "code",
   "execution_count": 99,
   "metadata": {},
   "outputs": [
    {
     "data": {
      "text/plain": [
       "{1: 6, 2: 2, 3: 10, 100: 4}"
      ]
     },
     "execution_count": 99,
     "metadata": {},
     "output_type": "execute_result"
    }
   ],
   "source": [
    "d = {}\n",
    "for i,j in zip(lst,lst1):\n",
    "    d[i]= j\n",
    "d"
   ]
  },
  {
   "cell_type": "code",
   "execution_count": 101,
   "metadata": {},
   "outputs": [
    {
     "data": {
      "text/plain": [
       "{'hey'}"
      ]
     },
     "execution_count": 101,
     "metadata": {},
     "output_type": "execute_result"
    }
   ],
   "source": [
    "s = 'hey hey hey'\n",
    "se = set(s.split(' '))\n",
    "se"
   ]
  },
  {
   "cell_type": "code",
   "execution_count": 103,
   "metadata": {},
   "outputs": [
    {
     "data": {
      "text/plain": [
       "3"
      ]
     },
     "execution_count": 103,
     "metadata": {},
     "output_type": "execute_result"
    }
   ],
   "source": [
    "s.count('hey')"
   ]
  },
  {
   "cell_type": "code",
   "execution_count": 105,
   "metadata": {},
   "outputs": [
    {
     "data": {
      "text/plain": [
       "['hey', 'hey', 'hey']"
      ]
     },
     "execution_count": 105,
     "metadata": {},
     "output_type": "execute_result"
    }
   ],
   "source": [
    "s.split()"
   ]
  },
  {
   "cell_type": "code",
   "execution_count": 106,
   "metadata": {},
   "outputs": [
    {
     "data": {
      "text/plain": [
       "['hey', 'hey', 'hey']"
      ]
     },
     "execution_count": 106,
     "metadata": {},
     "output_type": "execute_result"
    }
   ],
   "source": [
    "s.split(' ')"
   ]
  },
  {
   "cell_type": "code",
   "execution_count": 111,
   "metadata": {},
   "outputs": [
    {
     "data": {
      "text/plain": [
       "['h', 'e', 'y', ' ', 'h', 'e', 'y', ' ', 'h', 'e', 'y']"
      ]
     },
     "execution_count": 111,
     "metadata": {},
     "output_type": "execute_result"
    }
   ],
   "source": [
    "a = 'hey'\n",
    "list(s)"
   ]
  },
  {
   "cell_type": "code",
   "execution_count": 7,
   "metadata": {},
   "outputs": [
    {
     "data": {
      "text/plain": [
       "120"
      ]
     },
     "execution_count": 7,
     "metadata": {},
     "output_type": "execute_result"
    }
   ],
   "source": [
    "# factorial\n",
    "\n",
    "def factorial(no):\n",
    "    fact =1\n",
    "    for i in range(1,no+1):\n",
    "        fact = i*fact\n",
    "    return fact\n",
    "factorial(5)"
   ]
  },
  {
   "cell_type": "code",
   "execution_count": 26,
   "metadata": {},
   "outputs": [
    {
     "data": {
      "text/plain": [
       "15"
      ]
     },
     "execution_count": 26,
     "metadata": {},
     "output_type": "execute_result"
    }
   ],
   "source": [
    "# # Python program to find H.C.F of two numbers\n",
    "\n",
    "def hcf(a,b):\n",
    "    hcf1 =1\n",
    "    if a>b:\n",
    "        a = b\n",
    "\n",
    "    for i in range(2,a+1):\n",
    "        if a%i == 0 and b% i == 0:\n",
    "            hcf1 = i\n",
    "    return hcf1\n",
    "hcf(15,30)"
   ]
  },
  {
   "cell_type": "code",
   "execution_count": 36,
   "metadata": {},
   "outputs": [
    {
     "data": {
      "text/plain": [
       "'0b1000'"
      ]
     },
     "execution_count": 36,
     "metadata": {},
     "output_type": "execute_result"
    }
   ],
   "source": [
    "# Write a Python Program to Convert Decimal to Binary, Octal and Hexadecimal.\n",
    "\n",
    "# def conversion(no, system):\n",
    "#     str1 = ''\n",
    "#     while no>system:\n",
    "#         rem = no% system\n",
    "#         str1 = str1+ str(rem)\n",
    "#     return (str1)\n",
    "# conversion(10,2)\n",
    "bin(8)"
   ]
  },
  {
   "cell_type": "code",
   "execution_count": 38,
   "metadata": {},
   "outputs": [
    {
     "data": {
      "text/plain": [
       "75"
      ]
     },
     "execution_count": 38,
     "metadata": {},
     "output_type": "execute_result"
    }
   ],
   "source": [
    "# ASCII\n",
    "ord('K')"
   ]
  },
  {
   "cell_type": "code",
   "execution_count": 40,
   "metadata": {},
   "outputs": [
    {
     "data": {
      "text/plain": [
       "['a', 'a', 'i', 'k', 'l', 'n', 'y']"
      ]
     },
     "execution_count": 40,
     "metadata": {},
     "output_type": "execute_result"
    }
   ],
   "source": [
    "sorted('kalyani')"
   ]
  },
  {
   "cell_type": "code",
   "execution_count": 42,
   "metadata": {},
   "outputs": [
    {
     "data": {
      "text/plain": [
       "[1, 2, 27]"
      ]
     },
     "execution_count": 42,
     "metadata": {},
     "output_type": "execute_result"
    }
   ],
   "source": [
    "sorted([1,27,2])"
   ]
  },
  {
   "cell_type": "code",
   "execution_count": 2,
   "metadata": {},
   "outputs": [
    {
     "name": "stdout",
     "output_type": "stream",
     "text": [
      "The sorted words are:\n",
      "Data\n",
      "['Data', 'Interview', 'Is', 'Preparation', 'Sciencce', 'This']\n",
      "Interview\n",
      "['Data', 'Interview', 'Is', 'Preparation', 'Sciencce', 'This']\n",
      "Is\n",
      "['Data', 'Interview', 'Is', 'Preparation', 'Sciencce', 'This']\n",
      "Preparation\n",
      "['Data', 'Interview', 'Is', 'Preparation', 'Sciencce', 'This']\n",
      "Sciencce\n",
      "['Data', 'Interview', 'Is', 'Preparation', 'Sciencce', 'This']\n",
      "This\n",
      "['Data', 'Interview', 'Is', 'Preparation', 'Sciencce', 'This']\n"
     ]
    }
   ],
   "source": [
    "my_str = 'This is data sciencce interview preparation'\n",
    "# breakdown the string into a list of words\n",
    "words = [word.capitalize() for word in my_str.split()]\n",
    "# sort the list\n",
    "words.sort()\n",
    "# display the sorted words\n",
    "print(\"The sorted words are:\")\n",
    "for word in words:\n",
    " print(word)\n",
    " print(words)\n"
   ]
  },
  {
   "cell_type": "code",
   "execution_count": 12,
   "metadata": {},
   "outputs": [
    {
     "name": "stdout",
     "output_type": "stream",
     "text": [
      "cudeu215454646789\n"
     ]
    },
    {
     "name": "stderr",
     "output_type": "stream",
     "text": [
      "<>:3: SyntaxWarning: invalid escape sequence '\\,'\n",
      "<>:3: SyntaxWarning: invalid escape sequence '\\,'\n",
      "C:\\Users\\Kalyani\\AppData\\Local\\Temp\\ipykernel_22768\\3164051168.py:3: SyntaxWarning: invalid escape sequence '\\,'\n",
      "  punctuations = '''!()-[]{};:'\"\\,<>./?@#$%^&*_~'''\n"
     ]
    }
   ],
   "source": [
    "# Write a Python Program to Remove Punctuation From a String.\n",
    "# define punctuation\n",
    "punctuations = '''!()-[]{};:'\"\\,<>./?@#$%^&*_~'''\n",
    "my_str = 'cudeu215454646789@#$%^'\n",
    "no_punc = ''\n",
    "for char in my_str:\n",
    "    if char not in punctuations:\n",
    "        no_punc = no_punc + char\n",
    "print(no_punc)"
   ]
  },
  {
   "cell_type": "code",
   "execution_count": null,
   "metadata": {},
   "outputs": [],
   "source": []
  },
  {
   "cell_type": "code",
   "execution_count": null,
   "metadata": {},
   "outputs": [],
   "source": []
  }
 ],
 "metadata": {
  "kernelspec": {
   "display_name": "Python 3",
   "language": "python",
   "name": "python3"
  },
  "language_info": {
   "codemirror_mode": {
    "name": "ipython",
    "version": 3
   },
   "file_extension": ".py",
   "mimetype": "text/x-python",
   "name": "python",
   "nbconvert_exporter": "python",
   "pygments_lexer": "ipython3",
   "version": "3.12.4"
  }
 },
 "nbformat": 4,
 "nbformat_minor": 2
}
